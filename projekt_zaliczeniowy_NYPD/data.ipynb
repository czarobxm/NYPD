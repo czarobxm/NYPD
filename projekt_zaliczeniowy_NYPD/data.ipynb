{
 "cells": [
  {
   "cell_type": "code",
   "execution_count": 1,
   "metadata": {},
   "outputs": [],
   "source": [
    "%load_ext autoreload\n",
    "%autoreload 2\n"
   ]
  },
  {
   "cell_type": "code",
   "execution_count": 2,
   "metadata": {},
   "outputs": [],
   "source": [
    "import numpy as np\n",
    "import pandas as pd\n",
    "import matplotlib\n",
    "import matplotlib.pyplot as plt\n",
    "import math\n",
    "\n",
    "import pit"
   ]
  },
  {
   "cell_type": "code",
   "execution_count": 3,
   "metadata": {},
   "outputs": [
    {
     "name": "stderr",
     "output_type": "stream",
     "text": [
      "C:\\Users\\cezar\\anaconda3\\lib\\site-packages\\pandas\\io\\excel\\_base.py:1272: FutureWarning: Defining usecols with out of bounds indices is deprecated and will raise a ParserError in a future version.\n",
      "  return self._reader.parse(\n"
     ]
    }
   ],
   "source": [
    "pit.czytanie_danych.testy_czyt_pit()"
   ]
  },
  {
   "cell_type": "code",
   "execution_count": 4,
   "metadata": {},
   "outputs": [],
   "source": [
    "dane_gminy_2020       = \"data\\\\2020\\\\20210215_Gminy_2_za_2020.xlsx\"\n",
    "dane_powiaty_2020     = \"data\\\\2020\\\\20210211_Powiaty_za_2020.xlsx\"\n",
    "dane_miasta_npp_2020  = \"data\\\\2020\\\\20210215_Miasta_NPP_2_za_2020.xlsx\"\n",
    "dane_wojewodztwa_2020 = \"data\\\\2020\\\\20210211_Województwa_za_2020.xlsx\"\n",
    "dane_metropolie_2020  = \"data\\\\2020\\\\20210211_Metropolia_2020.xlsx\"\n",
    "\n",
    "dane_gminy_2019       = \"data\\\\2019\\\\20200214_Gminy_za_2019.xlsx\"\n",
    "dane_powiaty_2019     = \"data\\\\2019\\\\20200214_Powiaty_za_2019.xlsx\"\n",
    "dane_miasta_npp_2019  = \"data\\\\2019\\\\20200214_Miasta_NPP_za_2019.xlsx\"\n",
    "dane_wojewodztwa_2019 = \"data\\\\2019\\\\20200214_Wojewodztwa_za_2019.xlsx\"\n",
    "dane_metropolie_2019  = \"data\\\\2019\\\\20200214_Gornoslasko_Zaglebiowska_Metropolia.xlsx\"\n",
    "\n",
    "dane_ludnosc_gminy_2020 = \"data\\\\Ludność.Stan i struktura_31.12.2020\\\\tabela12.xls\"\n",
    "dane_ludnosc_powiaty_2020 = \"data\\\\Ludność.Stan i struktura_31.12.2020\\\\tabela06.xls\"\n",
    "dane_ludnosc_wojewodztwa_2020 = \"data\\\\Ludność.Stan i struktura_31.12.2020\\\\tabela06.xls\"\n"
   ]
  },
  {
   "cell_type": "code",
   "execution_count": 5,
   "metadata": {},
   "outputs": [],
   "source": [
    "# zapisuję w zmiennych te wartości, które przydadzą mi się do najbliższych działań, czyli nazwa jednostki oraz dochód wygenerowany przez tą jednostkę w latach 2019 i 2020\n",
    "dochod_na_jst_gminy_2020       = pit.czytanie_danych.czyt_pit_gminy(dane_gminy_2020)\n",
    "dochod_na_jst_powiaty_2020     = pit.czytanie_danych.czyt_pit_powiaty(dane_powiaty_2020)\n",
    "dochod_na_jst_miasta_npp_2020  = pit.czytanie_danych.czyt_pit_powiaty(dane_miasta_npp_2020)\n",
    "dochod_na_jst_wojewodztwa_2020 = pit.czytanie_danych.czyt_pit_wojewodztwa(dane_wojewodztwa_2020)\n",
    "dochod_na_jst_metropolie_2020  = pit.czytanie_danych.czyt_pit_powiaty(dane_metropolie_2020)\n",
    "\n",
    "dochod_na_jst_powiaty_miasta_npp_2020 = pit.czyt_pit_powiaty_miasta_npp(dane_powiaty_2020, dane_miasta_npp_2020)\n",
    "dochod_na_jst_powiaty_miasta_npp_2019 = pit.czyt_pit_powiaty_miasta_npp(dane_powiaty_2019, dane_miasta_npp_2019)\n",
    "\n",
    "\n",
    "dochod_na_jst_gminy_2019       = pit.czytanie_danych.czyt_pit_gminy(dane_gminy_2019)\n",
    "dochod_na_jst_powiaty_2019     = pit.czytanie_danych.czyt_pit_powiaty(dane_powiaty_2019)\n",
    "dochod_na_jst_miasta_npp_2019  = pit.czytanie_danych.czyt_pit_powiaty(dane_miasta_npp_2019)\n",
    "dochod_na_jst_wojewodztwa_2019 = pit.czytanie_danych.czyt_pit_wojewodztwa(dane_wojewodztwa_2019)\n",
    "dochod_na_jst_metropolie_2019  = pit.czytanie_danych.czyt_pit_powiaty(dane_metropolie_2019)\n",
    "\n"
   ]
  },
  {
   "cell_type": "code",
   "execution_count": 6,
   "metadata": {},
   "outputs": [
    {
     "data": {
      "text/html": [
       "<div>\n",
       "<style scoped>\n",
       "    .dataframe tbody tr th:only-of-type {\n",
       "        vertical-align: middle;\n",
       "    }\n",
       "\n",
       "    .dataframe tbody tr th {\n",
       "        vertical-align: top;\n",
       "    }\n",
       "\n",
       "    .dataframe thead th {\n",
       "        text-align: right;\n",
       "    }\n",
       "</style>\n",
       "<table border=\"1\" class=\"dataframe\">\n",
       "  <thead>\n",
       "    <tr style=\"text-align: right;\">\n",
       "      <th></th>\n",
       "      <th>WK</th>\n",
       "      <th>PK</th>\n",
       "      <th>GK</th>\n",
       "      <th>GT</th>\n",
       "      <th>Dochody wykonane</th>\n",
       "    </tr>\n",
       "  </thead>\n",
       "  <tbody>\n",
       "    <tr>\n",
       "      <th>0</th>\n",
       "      <td>02</td>\n",
       "      <td>01</td>\n",
       "      <td>01</td>\n",
       "      <td>01</td>\n",
       "      <td>40456699</td>\n",
       "    </tr>\n",
       "    <tr>\n",
       "      <th>1</th>\n",
       "      <td>02</td>\n",
       "      <td>01</td>\n",
       "      <td>02</td>\n",
       "      <td>02</td>\n",
       "      <td>13789712</td>\n",
       "    </tr>\n",
       "    <tr>\n",
       "      <th>2</th>\n",
       "      <td>02</td>\n",
       "      <td>01</td>\n",
       "      <td>03</td>\n",
       "      <td>02</td>\n",
       "      <td>3573540</td>\n",
       "    </tr>\n",
       "    <tr>\n",
       "      <th>3</th>\n",
       "      <td>02</td>\n",
       "      <td>01</td>\n",
       "      <td>04</td>\n",
       "      <td>03</td>\n",
       "      <td>9553744</td>\n",
       "    </tr>\n",
       "    <tr>\n",
       "      <th>4</th>\n",
       "      <td>02</td>\n",
       "      <td>01</td>\n",
       "      <td>05</td>\n",
       "      <td>02</td>\n",
       "      <td>5844560</td>\n",
       "    </tr>\n",
       "    <tr>\n",
       "      <th>...</th>\n",
       "      <td>...</td>\n",
       "      <td>...</td>\n",
       "      <td>...</td>\n",
       "      <td>...</td>\n",
       "      <td>...</td>\n",
       "    </tr>\n",
       "    <tr>\n",
       "      <th>2406</th>\n",
       "      <td>32</td>\n",
       "      <td>18</td>\n",
       "      <td>01</td>\n",
       "      <td>03</td>\n",
       "      <td>2010454</td>\n",
       "    </tr>\n",
       "    <tr>\n",
       "      <th>2407</th>\n",
       "      <td>32</td>\n",
       "      <td>18</td>\n",
       "      <td>02</td>\n",
       "      <td>03</td>\n",
       "      <td>8834999</td>\n",
       "    </tr>\n",
       "    <tr>\n",
       "      <th>2408</th>\n",
       "      <td>32</td>\n",
       "      <td>18</td>\n",
       "      <td>03</td>\n",
       "      <td>02</td>\n",
       "      <td>1546533</td>\n",
       "    </tr>\n",
       "    <tr>\n",
       "      <th>2409</th>\n",
       "      <td>32</td>\n",
       "      <td>18</td>\n",
       "      <td>04</td>\n",
       "      <td>03</td>\n",
       "      <td>6612100</td>\n",
       "    </tr>\n",
       "    <tr>\n",
       "      <th>2410</th>\n",
       "      <td>32</td>\n",
       "      <td>18</td>\n",
       "      <td>05</td>\n",
       "      <td>03</td>\n",
       "      <td>3476544</td>\n",
       "    </tr>\n",
       "  </tbody>\n",
       "</table>\n",
       "<p>2411 rows × 5 columns</p>\n",
       "</div>"
      ],
      "text/plain": [
       "      WK  PK  GK  GT  Dochody wykonane\n",
       "0     02  01  01  01          40456699\n",
       "1     02  01  02  02          13789712\n",
       "2     02  01  03  02           3573540\n",
       "3     02  01  04  03           9553744\n",
       "4     02  01  05  02           5844560\n",
       "...   ..  ..  ..  ..               ...\n",
       "2406  32  18  01  03           2010454\n",
       "2407  32  18  02  03           8834999\n",
       "2408  32  18  03  02           1546533\n",
       "2409  32  18  04  03           6612100\n",
       "2410  32  18  05  03           3476544\n",
       "\n",
       "[2411 rows x 5 columns]"
      ]
     },
     "execution_count": 6,
     "metadata": {},
     "output_type": "execute_result"
    }
   ],
   "source": [
    "dochod_na_jst_gminy_2020"
   ]
  },
  {
   "cell_type": "code",
   "execution_count": null,
   "metadata": {},
   "outputs": [],
   "source": [
    "# teraz liczę różnicę w dochodach w latach 2019 i 2020 w stukturach: gmina, powiat, miasto na prawach powiatu, województwo, metropolia\n",
    "roznica_w_gminach_19_20 = pit.analiza_danych.obliczanie_roznicy_pit(dochod_na_jst_gminy_2019,dochod_na_jst_gminy_2020)\n",
    "roznica_w_powiatach_19_20 = pit.analiza_danych.obliczanie_roznicy_pit(dochod_na_jst_powiaty_miasta_npp_2019,dochod_na_jst_powiaty_miasta_npp_2020)\n",
    "roznica_w_wojewodztwach_19_20 = pit.analiza_danych.obliczanie_roznicy_pit(dochod_na_jst_wojewodztwa_2019,dochod_na_jst_wojewodztwa_2020)"
   ]
  },
  {
   "cell_type": "markdown",
   "metadata": {},
   "source": [
    "Wykresy kołowe przedstawiające, w którym roku dochody z podatku pit były większe"
   ]
  },
  {
   "cell_type": "code",
   "execution_count": null,
   "metadata": {},
   "outputs": [
    {
     "data": {
      "image/png": "[encoded data removed]",
      "text/plain": [
       "<Figure size 1080x1080 with 3 Axes>"
      ]
     },
     "metadata": {},
     "output_type": "display_data"
    }
   ],
   "source": [
    "# Rysuję wykresy kołowe przedstawiające procentowy rozkład ile jednostek zarobiło więcej w 2019, a ile w 2020\n",
    "plt.subplot(2,2,1)\n",
    "pit.analiza_danych.wykres.pie(roznica_w_gminach_19_20,'dochody w gminach')\n",
    "\n",
    "plt.subplot(2,2,2)\n",
    "pit.analiza_danych.wykres.pie(roznica_w_powiatach_19_20,'dochody w powiatach')\n",
    "\n",
    "plt.subplot(2,2,3)\n",
    "pit.analiza_danych.wykres.pie(roznica_w_wojewodztwach_19_20,'dochody w wojewodztwach powiatu')\n"
   ]
  },
  {
   "cell_type": "code",
   "execution_count": null,
   "metadata": {},
   "outputs": [],
   "source": [
    "ludnosc_w_gminach_2020 = pit.czyt_ludnosc_gminy(dane_ludnosc_gminy_2020)\n",
    "ludnosc_w_powiatach_2020 = pit.czyt_ludnosc_powiaty(dane_ludnosc_powiaty_2020)\n",
    "ludnosc_w_wojewodztwach_2020 = pit.czyt_ludnosc_wojewodztwa(dane_ludnosc_wojewodztwa_2020)"
   ]
  },
  {
   "cell_type": "markdown",
   "metadata": {},
   "source": [
    "Wyznacznie średniego dochodu opodatkowanego dla gmin, powiatów i województw"
   ]
  },
  {
   "cell_type": "code",
   "execution_count": null,
   "metadata": {},
   "outputs": [
    {
     "name": "stdout",
     "output_type": "stream",
     "text": [
      "nie wszystkie jednostki będą opisane w zestawieniu-w którymś z plików jest inna liczba jst\n"
     ]
    }
   ],
   "source": [
    "sredni_dochod_opodatkowany_gminy = pit.analiza_danych.sredni_dochod_opodatkowany(dochod_na_jst_gminy_2020, ludnosc_w_gminach_2020)\n",
    "sredni_dochod_opodatkowany_powiaty = pit.analiza_danych.sredni_dochod_opodatkowany(dochod_na_jst_powiaty_miasta_npp_2020, ludnosc_w_powiatach_2020)\n",
    "sredni_dochod_opodatkowany_wojewodztwa = pit.analiza_danych.sredni_dochod_opodatkowany(dochod_na_jst_wojewodztwa_2020, ludnosc_w_wojewodztwach_2020)"
   ]
  },
  {
   "cell_type": "code",
   "execution_count": null,
   "metadata": {},
   "outputs": [
    {
     "data": {
      "text/plain": [
       "(array([710., 585., 381., 191., 106.,  68.,  56.,  51.,  45.,  26.,  18.,\n",
       "         23.,  12.,  16.,   9.,   9.,   5.,  11.,   8.,   8.,   8.,   6.,\n",
       "          0.,   3.,   2.,   3.,   6.,   3.,   5.,   1.,   3.,   0.,   2.,\n",
       "          2.,   0.,   1.,   3.,   1.,   1.,   3.,   0.,   0.,   5.,   0.,\n",
       "          0.,   2.,   1.,   0.,   0.,   2.,   1.,   0.,   1.,   3.,   0.,\n",
       "          1.,   0.,   0.,   0.,   0.,   0.,   0.,   0.,   0.,   0.,   0.,\n",
       "          0.,   0.,   0.,   0.,   0.,   0.,   0.,   0.,   2.,   0.,   0.,\n",
       "          0.,   0.,   0.,   1.,   0.,   0.,   0.,   0.,   0.,   0.,   0.,\n",
       "          0.,   0.,   0.,   0.,   0.,   0.,   0.,   0.,   0.,   0.,   0.,\n",
       "          1.]),\n",
       " array([4.97890853e+00, 7.13020778e+02, 1.42106265e+03, 2.12910452e+03,\n",
       "        2.83714639e+03, 3.54518825e+03, 4.25323012e+03, 4.96127199e+03,\n",
       "        5.66931386e+03, 6.37735573e+03, 7.08539760e+03, 7.79343947e+03,\n",
       "        8.50148134e+03, 9.20952321e+03, 9.91756508e+03, 1.06256069e+04,\n",
       "        1.13336488e+04, 1.20416907e+04, 1.27497326e+04, 1.34577744e+04,\n",
       "        1.41658163e+04, 1.48738582e+04, 1.55819000e+04, 1.62899419e+04,\n",
       "        1.69979838e+04, 1.77060256e+04, 1.84140675e+04, 1.91221094e+04,\n",
       "        1.98301512e+04, 2.05381931e+04, 2.12462350e+04, 2.19542769e+04,\n",
       "        2.26623187e+04, 2.33703606e+04, 2.40784025e+04, 2.47864443e+04,\n",
       "        2.54944862e+04, 2.62025281e+04, 2.69105699e+04, 2.76186118e+04,\n",
       "        2.83266537e+04, 2.90346955e+04, 2.97427374e+04, 3.04507793e+04,\n",
       "        3.11588212e+04, 3.18668630e+04, 3.25749049e+04, 3.32829468e+04,\n",
       "        3.39909886e+04, 3.46990305e+04, 3.54070724e+04, 3.61151142e+04,\n",
       "        3.68231561e+04, 3.75311980e+04, 3.82392398e+04, 3.89472817e+04,\n",
       "        3.96553236e+04, 4.03633655e+04, 4.10714073e+04, 4.17794492e+04,\n",
       "        4.24874911e+04, 4.31955329e+04, 4.39035748e+04, 4.46116167e+04,\n",
       "        4.53196585e+04, 4.60277004e+04, 4.67357423e+04, 4.74437841e+04,\n",
       "        4.81518260e+04, 4.88598679e+04, 4.95679098e+04, 5.02759516e+04,\n",
       "        5.09839935e+04, 5.16920354e+04, 5.24000772e+04, 5.31081191e+04,\n",
       "        5.38161610e+04, 5.45242028e+04, 5.52322447e+04, 5.59402866e+04,\n",
       "        5.66483284e+04, 5.73563703e+04, 5.80644122e+04, 5.87724541e+04,\n",
       "        5.94804959e+04, 6.01885378e+04, 6.08965797e+04, 6.16046215e+04,\n",
       "        6.23126634e+04, 6.30207053e+04, 6.37287471e+04, 6.44367890e+04,\n",
       "        6.51448309e+04, 6.58528727e+04, 6.65609146e+04, 6.72689565e+04,\n",
       "        6.79769984e+04, 6.86850402e+04, 6.93930821e+04, 7.01011240e+04,\n",
       "        7.08091658e+04]),\n",
       " <BarContainer object of 100 artists>)"
      ]
     },
     "execution_count": 66,
     "metadata": {},
     "output_type": "execute_result"
    },
    {
     "data": {
      "image/png": "[encoded data removed]",
      "text/plain": [
       "<Figure size 1440x720 with 3 Axes>"
      ]
     },
     "metadata": {
      "needs_background": "light"
     },
     "output_type": "display_data"
    }
   ],
   "source": [
    "plt.figure(figsize=(20,10))\n",
    "plt.subplot(2,2,1)\n",
    "plt.hist(sredni_dochod_opodatkowany_wojewodztwa['średni dochód'], bins=100)\n",
    "\n",
    "plt.subplot(2,2,2)\n",
    "plt.hist(sredni_dochod_opodatkowany_powiaty['średni dochód'], bins=100)\n",
    "\n",
    "plt.subplot(2,2,3)\n",
    "plt.hist(sredni_dochod_opodatkowany_gminy['średni dochód'], bins=100)"
   ]
  },
  {
   "cell_type": "markdown",
   "metadata": {},
   "source": [
    "Wyznacznie wariancji dochodu podległych jednostek terytorialnych dla powiatów i województw"
   ]
  },
  {
   "cell_type": "code",
   "execution_count": null,
   "metadata": {},
   "outputs": [],
   "source": [
    "wariancja_dochodu_gmin_w_powiecie = pit.wariancja_dochodu_gmin_w_powiecie(dochod_na_jst_gminy_2020)\n",
    "wariancja_dochodu_powiatow_w_wojewodztwie = pit.wariancja_dochodu_powiatow_w_wojewodztwie(dochod_na_jst_powiaty_miasta_npp_2020)"
   ]
  },
  {
   "cell_type": "code",
   "execution_count": null,
   "metadata": {},
   "outputs": [
    {
     "data": {
      "text/plain": [
       "(array([7., 3., 0., 0., 2., 1., 0., 1., 0., 0., 0., 0., 0., 0., 1., 0., 0.,\n",
       "        0., 0., 0., 0., 0., 0., 0., 0., 0., 0., 0., 0., 0., 0., 0., 0., 0.,\n",
       "        0., 0., 0., 0., 0., 0., 0., 0., 0., 0., 0., 0., 0., 0., 0., 0., 0.,\n",
       "        0., 0., 0., 0., 0., 0., 0., 0., 0., 0., 0., 0., 0., 0., 0., 0., 0.,\n",
       "        0., 0., 0., 0., 0., 0., 0., 0., 0., 0., 0., 0., 0., 0., 0., 0., 0.,\n",
       "        0., 0., 0., 0., 0., 0., 0., 0., 0., 0., 0., 0., 0., 0., 1.]),\n",
       " array([2.08212731e+15, 7.45750912e+15, 1.28328909e+16, 1.82082727e+16,\n",
       "        2.35836545e+16, 2.89590364e+16, 3.43344182e+16, 3.97098000e+16,\n",
       "        4.50851818e+16, 5.04605636e+16, 5.58359454e+16, 6.12113272e+16,\n",
       "        6.65867090e+16, 7.19620908e+16, 7.73374727e+16, 8.27128545e+16,\n",
       "        8.80882363e+16, 9.34636181e+16, 9.88389999e+16, 1.04214382e+17,\n",
       "        1.09589764e+17, 1.14965145e+17, 1.20340527e+17, 1.25715909e+17,\n",
       "        1.31091291e+17, 1.36466673e+17, 1.41842054e+17, 1.47217436e+17,\n",
       "        1.52592818e+17, 1.57968200e+17, 1.63343582e+17, 1.68718963e+17,\n",
       "        1.74094345e+17, 1.79469727e+17, 1.84845109e+17, 1.90220491e+17,\n",
       "        1.95595873e+17, 2.00971254e+17, 2.06346636e+17, 2.11722018e+17,\n",
       "        2.17097400e+17, 2.22472782e+17, 2.27848163e+17, 2.33223545e+17,\n",
       "        2.38598927e+17, 2.43974309e+17, 2.49349691e+17, 2.54725072e+17,\n",
       "        2.60100454e+17, 2.65475836e+17, 2.70851218e+17, 2.76226600e+17,\n",
       "        2.81601981e+17, 2.86977363e+17, 2.92352745e+17, 2.97728127e+17,\n",
       "        3.03103509e+17, 3.08478891e+17, 3.13854272e+17, 3.19229654e+17,\n",
       "        3.24605036e+17, 3.29980418e+17, 3.35355800e+17, 3.40731181e+17,\n",
       "        3.46106563e+17, 3.51481945e+17, 3.56857327e+17, 3.62232709e+17,\n",
       "        3.67608090e+17, 3.72983472e+17, 3.78358854e+17, 3.83734236e+17,\n",
       "        3.89109618e+17, 3.94485000e+17, 3.99860381e+17, 4.05235763e+17,\n",
       "        4.10611145e+17, 4.15986527e+17, 4.21361909e+17, 4.26737290e+17,\n",
       "        4.32112672e+17, 4.37488054e+17, 4.42863436e+17, 4.48238818e+17,\n",
       "        4.53614199e+17, 4.58989581e+17, 4.64364963e+17, 4.69740345e+17,\n",
       "        4.75115727e+17, 4.80491108e+17, 4.85866490e+17, 4.91241872e+17,\n",
       "        4.96617254e+17, 5.01992636e+17, 5.07368018e+17, 5.12743399e+17,\n",
       "        5.18118781e+17, 5.23494163e+17, 5.28869545e+17, 5.34244927e+17,\n",
       "        5.39620308e+17]),\n",
       " <BarContainer object of 100 artists>)"
      ]
     },
     "execution_count": 68,
     "metadata": {},
     "output_type": "execute_result"
    },
    {
     "data": {
      "image/png": "[encoded data removed]",
      "text/plain": [
       "<Figure size 432x288 with 1 Axes>"
      ]
     },
     "metadata": {
      "needs_background": "light"
     },
     "output_type": "display_data"
    }
   ],
   "source": [
    "plt.hist(wariancja_dochodu_powiatow_w_wojewodztwie['wariancja dochodu podległych jednostek'],bins=100)"
   ]
  },
  {
   "cell_type": "markdown",
   "metadata": {},
   "source": [
    "Wyznacznie średniej ważonej dochodów z podatku pit dla powiatów i województw"
   ]
  },
  {
   "cell_type": "code",
   "execution_count": null,
   "metadata": {},
   "outputs": [
    {
     "name": "stdout",
     "output_type": "stream",
     "text": [
      "Liczenie średniej ważonej dla powiatów\n",
      "nie ma gminy o identyfikatorze 02240303 w spisie ludnosci gmin/powiatów pomimo, że jest w spisie dochodu z pit gmin\n",
      "nie ma gminy o identyfikatorze 06020603 w spisie ludnosci gmin/powiatów pomimo, że jest w spisie dochodu z pit gmin\n",
      "nie ma gminy o identyfikatorze 06080503 w spisie ludnosci gmin/powiatów pomimo, że jest w spisie dochodu z pit gmin\n",
      "nie ma gminy o identyfikatorze 14090603 w spisie ludnosci gmin/powiatów pomimo, że jest w spisie dochodu z pit gmin\n",
      "nie ma gminy o identyfikatorze 14201103 w spisie ludnosci gmin/powiatów pomimo, że jest w spisie dochodu z pit gmin\n",
      "nie ma gminy o identyfikatorze 14380503 w spisie ludnosci gmin/powiatów pomimo, że jest w spisie dochodu z pit gmin\n",
      "nie ma gminy o identyfikatorze 18130203 w spisie ludnosci gmin/powiatów pomimo, że jest w spisie dochodu z pit gmin\n",
      "nie ma gminy o identyfikatorze 26020903 w spisie ludnosci gmin/powiatów pomimo, że jest w spisie dochodu z pit gmin\n",
      "nie ma gminy o identyfikatorze 28170101 w spisie ludnosci gmin/powiatów pomimo, że jest w spisie dochodu z pit gmin\n",
      "nie ma gminy o identyfikatorze 28170202 w spisie ludnosci gmin/powiatów pomimo, że jest w spisie dochodu z pit gmin\n",
      "nie ma gminy o identyfikatorze 28170302 w spisie ludnosci gmin/powiatów pomimo, że jest w spisie dochodu z pit gmin\n",
      "nie ma gminy o identyfikatorze 28170403 w spisie ludnosci gmin/powiatów pomimo, że jest w spisie dochodu z pit gmin\n",
      "nie ma gminy o identyfikatorze 28170502 w spisie ludnosci gmin/powiatów pomimo, że jest w spisie dochodu z pit gmin\n",
      "nie ma gminy o identyfikatorze 28170602 w spisie ludnosci gmin/powiatów pomimo, że jest w spisie dochodu z pit gmin\n",
      "nie ma gminy o identyfikatorze 28170702 w spisie ludnosci gmin/powiatów pomimo, że jest w spisie dochodu z pit gmin\n",
      "nie ma gminy o identyfikatorze 28170803 w spisie ludnosci gmin/powiatów pomimo, że jest w spisie dochodu z pit gmin\n",
      "nie ma gminy o identyfikatorze 30010203 w spisie ludnosci gmin/powiatów pomimo, że jest w spisie dochodu z pit gmin\n",
      "nie ma gminy o identyfikatorze 30070503 w spisie ludnosci gmin/powiatów pomimo, że jest w spisie dochodu z pit gmin\n",
      "\n",
      "Liczenie średniej ważonej dla województw\n",
      "nie ma powiatu o identyfikatorze 2817 w spisie ludnosci powiatów pomimo, że jest w spisie dochodu z pit powiatów\n"
     ]
    }
   ],
   "source": [
    "print('Liczenie średniej ważonej dla powiatów')\n",
    "srednia_wazona_dochodu_powiatow = pit.srednia_wazona_dochodu_powiatow(dochod_na_jst_gminy_2020, ludnosc_w_gminach_2020, ludnosc_w_powiatach_2020)\n",
    "print('\\nLiczenie średniej ważonej dla województw')\n",
    "srednia_wazona_dochodu_wojewodztw = pit.srednia_wazona_dochodu_wojewodztw(dochod_na_jst_powiaty_miasta_npp_2020, ludnosc_w_powiatach_2020, ludnosc_w_wojewodztwach_2020)\n"
   ]
  },
  {
   "cell_type": "code",
   "execution_count": null,
   "metadata": {},
   "outputs": [
    {
     "name": "stderr",
     "output_type": "stream",
     "text": [
      "C:\\Users\\cezar\\anaconda3\\lib\\site-packages\\pandas\\core\\indexing.py:1817: SettingWithCopyWarning: \n",
      "A value is trying to be set on a copy of a slice from a DataFrame.\n",
      "Try using .loc[row_indexer,col_indexer] = value instead\n",
      "\n",
      "See the caveats in the documentation: https://pandas.pydata.org/pandas-docs/stable/user_guide/indexing.html#returning-a-view-versus-a-copy\n",
      "  self._setitem_single_column(loc, value, pi)\n"
     ]
    }
   ],
   "source": [
    "path = \"excel_dane_gminy.xlsx\"\n",
    "pit.export_to_excel_gminy(path, dochod_na_jst_gminy_2019, dochod_na_jst_gminy_2020, ludnosc_w_gminach_2020, sredni_dochod_opodatkowany_gminy)"
   ]
  },
  {
   "cell_type": "markdown",
   "metadata": {},
   "source": [
    "Teraz wszystkie policzone informacje zapisujemy do plików"
   ]
  },
  {
   "cell_type": "code",
   "execution_count": null,
   "metadata": {},
   "outputs": [],
   "source": [
    "path = \"excel_dane_powiaty.xlsx\"\n",
    "pit.export_to_excel_powiaty(path,dochod_na_jst_powiaty_miasta_npp_2019, dochod_na_jst_powiaty_miasta_npp_2020, ludnosc_w_powiatach_2020,sredni_dochod_opodatkowany_powiaty, wariancja_dochodu_gmin_w_powiecie, srednia_wazona_dochodu_powiatow)"
   ]
  },
  {
   "cell_type": "code",
   "execution_count": null,
   "metadata": {},
   "outputs": [],
   "source": [
    "path = \"excel_dane_wojewodztwa.xlsx\"\n",
    "pit.export_to_excel_wojewodztwa(path, dochod_na_jst_wojewodztwa_2019, dochod_na_jst_wojewodztwa_2020, ludnosc_w_wojewodztwach_2020, sredni_dochod_opodatkowany_wojewodztwa, wariancja_dochodu_powiatow_w_wojewodztwie, srednia_wazona_dochodu_wojewodztw)"
   ]
  }
 ],
 "metadata": {
  "interpreter": {
   "hash": "10e62bf436c8edec0539f554262a90e2f909673efeea630fb3621326e7537584"
  },
  "kernelspec": {
   "display_name": "PyCharm (projekt_zaliczeniowy)",
   "language": "python",
   "name": "python3"
  },
  "language_info": {
   "codemirror_mode": {
    "name": "ipython",
    "version": 3
   },
   "file_extension": ".py",
   "mimetype": "text/x-python",
   "name": "python",
   "nbconvert_exporter": "python",
   "pygments_lexer": "ipython3",
   "version": "3.9.7"
  }
 },
 "nbformat": 4,
 "nbformat_minor": 0
}
